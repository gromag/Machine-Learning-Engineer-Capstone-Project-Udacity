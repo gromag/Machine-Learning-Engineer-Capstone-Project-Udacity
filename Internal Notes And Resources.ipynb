{
 "cells": [
  {
   "cell_type": "markdown",
   "metadata": {},
   "source": [
    "Resources:\n",
    "\n",
    "- [Kaggle kernel Only clarification](https://www.kaggle.com/c/jigsaw-unintended-bias-in-toxicity-classification/discussion/87719#latest-516430)\n",
    "- https://www.topbots.com/most-important-ai-nlp-research/#ai-nlp-paper-2018-1\n",
    "- https://aclweb.org/anthology/K18-1030\n",
    "- https://medium.com/@jatinmandav3/opinion-mining-sometimes-known-as-sentiment-analysis-or-emotion-ai-refers-to-the-use-of-natural-874f369194c0\n",
    "- https://arxiv.org/pdf/1810.04805.pdf\n",
    "- [Navigate Virtual Maze - sample project](https://github.com/udacity/machine-learning/blob/master/projects/capstone/report-example-3.pdf)\n",
    "- https://github.com/google/sentencepiece\n",
    "- [Profanity check](https://github.com/vzhou842/profanity-check)\n",
    "- [The transformer, open ai, bert](http://jalammar.github.io/illustrated-bert/)\n",
    "- [Colab BERT End-2-End](https://colab.research.google.com/drive/12-7OQIi8YJX5tZBbLDgbcCxcyOT6oWHL)\n",
    "- [ROC AUC Curve - Google ML](https://developers.google.com/machine-learning/crash-course/classification/roc-and-auc)\n",
    "- [Spacey, Prodigy](https://explosion.ai/)"
   ]
  },
  {
   "cell_type": "code",
   "execution_count": null,
   "metadata": {},
   "outputs": [],
   "source": []
  }
 ],
 "metadata": {
  "kernelspec": {
   "display_name": "Python 3",
   "language": "python",
   "name": "python3"
  },
  "language_info": {
   "codemirror_mode": {
    "name": "ipython",
    "version": 3
   },
   "file_extension": ".py",
   "mimetype": "text/x-python",
   "name": "python",
   "nbconvert_exporter": "python",
   "pygments_lexer": "ipython3",
   "version": "3.6.8"
  }
 },
 "nbformat": 4,
 "nbformat_minor": 2
}
