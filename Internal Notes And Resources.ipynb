{
 "cells": [
  {
   "cell_type": "markdown",
   "metadata": {},
   "source": [
    "Resources:\n",
    "\n",
    "- [Kaggle kernel Only clarification](https://www.kaggle.com/c/jigsaw-unintended-bias-in-toxicity-classification/discussion/87719#latest-516430)\n",
    "- https://www.topbots.com/most-important-ai-nlp-research/#ai-nlp-paper-2018-1\n",
    "- https://aclweb.org/anthology/K18-1030\n",
    "- https://medium.com/@jatinmandav3/opinion-mining-sometimes-known-as-sentiment-analysis-or-emotion-ai-refers-to-the-use-of-natural-874f369194c0\n",
    "- https://arxiv.org/pdf/1810.04805.pdf\n",
    "- [Navigate Virtual Maze - sample project](https://github.com/udacity/machine-learning/blob/master/projects/capstone/report-example-3.pdf)\n",
    "- https://github.com/google/sentencepiece\n",
    "- [Profanity check](https://github.com/vzhou842/profanity-check)\n",
    "- [The transformer, open ai, bert](http://jalammar.github.io/illustrated-bert/)\n",
    "- [Colab BERT End-2-End](https://colab.research.google.com/drive/12-7OQIi8YJX5tZBbLDgbcCxcyOT6oWHL)\n",
    "- [ROC AUC Curve - Google ML](https://developers.google.com/machine-learning/crash-course/classification/roc-and-auc)\n",
    "- [Spacey, Prodigy](https://explosion.ai/)\n",
    "- [Paper on training language models with Deep NN of different sizes](https://pdfs.semanticscholar.org/a177/45f1d7045636577bcd5d513620df5860e9e5.pdf)\n",
    "- [onnx models](https://github.com/onnx)\n",
    "- [Fasttext](https://keras.io/examples/imdb_fasttext/)\n",
    "- [Attention is all you need - Transformer paper](https://arxiv.org/pdf/1706.03762.pdf)\n",
    "- [Transformers - Attention intuition](https://towardsdatascience.com/transformers-141e32e69591)\n",
    "- [BERT Discussion Video on YouTube (Rachel - Kaggle)](https://www.youtube.com/watch?v=IF6xV0RI91s)\n",
    "- [GLUE BENCHMARK](https://gluebenchmark.com/submission/QBStnIRNNwP5gULgPuBjzK3tJqz2/-LbP6zV9cmUAvtgpRi1d)\n",
    "- [Speed of Hierarchical Softmax](https://www.quora.com/What-is-hierarchical-softmax)\n",
    "- [LSTM](http://colah.github.io/posts/2015-08-Understanding-LSTMs/)\n"
   ]
  },
  {
   "cell_type": "markdown",
   "metadata": {},
   "source": [
    "Prediction bias is a quantity that measures how far apart those two averages are. That is:\n",
    "\n",
    "`\"average of predictions\" should ≈ \"average of observations\"`\n"
   ]
  },
  {
   "cell_type": "markdown",
   "metadata": {},
   "source": [
    "- Check tahn"
   ]
  },
  {
   "cell_type": "code",
   "execution_count": null,
   "metadata": {},
   "outputs": [],
   "source": []
  }
 ],
 "metadata": {
  "kernelspec": {
   "display_name": "Python 3",
   "language": "python",
   "name": "python3"
  },
  "language_info": {
   "codemirror_mode": {
    "name": "ipython",
    "version": 3
   },
   "file_extension": ".py",
   "mimetype": "text/x-python",
   "name": "python",
   "nbconvert_exporter": "python",
   "pygments_lexer": "ipython3",
   "version": "3.6.8"
  }
 },
 "nbformat": 4,
 "nbformat_minor": 2
}
