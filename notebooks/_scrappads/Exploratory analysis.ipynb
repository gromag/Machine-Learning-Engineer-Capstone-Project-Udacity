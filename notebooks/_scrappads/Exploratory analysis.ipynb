{
 "cells": [
  {
   "cell_type": "code",
   "execution_count": 26,
   "metadata": {
    "_cell_guid": "b1076dfc-b9ad-4769-8c92-a6c4dae69d19",
    "_uuid": "8f2839f25d086af736a60e9eeb907d3b93b6e0e5"
   },
   "outputs": [
    {
     "name": "stdout",
     "output_type": "stream",
     "text": [
      "['stopwords', 'jigsaw-unintended-bias-in-toxicity-classification', '.DS_Store', 'glove840b300dtxt', 'fasttext-crawl-300d-2m']\n"
     ]
    }
   ],
   "source": [
    "# This Python 3 environment comes with many helpful analytics libraries installed\n",
    "# It is defined by the kaggle/python docker image: https://github.com/kaggle/docker-python\n",
    "# For example, here's several helpful packages to load in \n",
    "\n",
    "import numpy as np # linear algebra\n",
    "import pandas as pd # data processing, CSV file I/O (e.g. pd.read_csv)\n",
    "pd.options.display.max_columns = 2000\n",
    "import tabletext\n",
    "\n",
    "# Input data files are available in the \"../input/\" directory.\n",
    "# For example, running this (by clicking run or pressing Shift+Enter) will list the files in the input directory\n",
    "\n",
    "import os\n",
    "print(os.listdir(\"../input\"))\n",
    "\n",
    "# Any results you write to the current directory are saved as output."
   ]
  },
  {
   "cell_type": "code",
   "execution_count": 27,
   "metadata": {},
   "outputs": [
    {
     "name": "stdout",
     "output_type": "stream",
     "text": [
      "The autoreload extension is already loaded. To reload it, use:\n",
      "  %reload_ext autoreload\n"
     ]
    }
   ],
   "source": [
    "%load_ext autoreload\n",
    "%autoreload 2"
   ]
  },
  {
   "cell_type": "code",
   "execution_count": 28,
   "metadata": {},
   "outputs": [],
   "source": [
    "%reload_ext autoreload"
   ]
  },
  {
   "cell_type": "code",
   "execution_count": 37,
   "metadata": {
    "code_folding": []
   },
   "outputs": [],
   "source": [
    "from library.DataSampler import *\n",
    "from library.PyTorchTrainer import *\n",
    "from library.ObsceneTextPreprocessor import *\n",
    "from library.TextTokenizer import *\n",
    "from library.EvaluationMetrics import *\n",
    "from library.Reproducibility import *\n",
    "from library.LSTM import NeuralNet\n",
    "from library.ExploratoryAnalysis import ExploratoryAnalysis, JigsawExploratoryAnalysis\n",
    "from library.Embeddings import FastTextEmbeddings"
   ]
  },
  {
   "cell_type": "code",
   "execution_count": 23,
   "metadata": {},
   "outputs": [],
   "source": [
    "Reproducibility.RANDOM_SEED = 1234\n",
    "Reproducibility.seed_everything()"
   ]
  },
  {
   "cell_type": "code",
   "execution_count": 25,
   "metadata": {},
   "outputs": [
    {
     "name": "stdout",
     "output_type": "stream",
     "text": [
      "Embeddings shape: (100, 300)\n"
     ]
    }
   ],
   "source": [
    "fast_text = FastTextEmbeddings('../input/fasttext-crawl-300d-2m/crawl-300d-2M.vec', 100)\n",
    "print('Embeddings shape: {}'.format(fast_text.shape()))"
   ]
  },
  {
   "cell_type": "code",
   "execution_count": 26,
   "metadata": {},
   "outputs": [
    {
     "data": {
      "text/plain": [
       "array([',', 'the', '.', 'and', 'to', 'of', 'a', 'in', 'is', 'for', 'that',\n",
       "       'I', 'it', 'on', 'with', ')', ':', '\"', '(', 'The', 'you', 'was',\n",
       "       'are', 'or', 'this', 'as', 'have', 'at', 'from', '!', \"'s\", 'but',\n",
       "       'by', 'not', '?', 'your', 'all', '/', 'be', 'we', 'my', 'one', '-',\n",
       "       'will', 'they', 'so', 'which', '”', '“', 'has', '...', 'just',\n",
       "       'he', 'their', 'can', 'about', 'his', 'our', ';', 'when', 'more',\n",
       "       'had', 'do', 'some', 'time', 'like', 'also', 'there', 'them',\n",
       "       'get', 'what', 'out', \"'\", 'me', 'her', 'an', 'were', 'This', 'It',\n",
       "       'up', 'would', 'if', 'who', 'new', 'only', 'A', '–', 'people',\n",
       "       'any', 'We', 'make', 'other', 'In', 'then', 'its', 'use', 'said',\n",
       "       'now', 'no', 'first'], dtype='<U6')"
      ]
     },
     "execution_count": 26,
     "metadata": {},
     "output_type": "execute_result"
    }
   ],
   "source": [
    "fast_text.get_all_words()"
   ]
  },
  {
   "cell_type": "code",
   "execution_count": 7,
   "metadata": {},
   "outputs": [],
   "source": [
    "explore = JigsawExploratoryAnalysis(train_path='../input/train.csv', test_path='../input/test.csv')"
   ]
  },
  {
   "cell_type": "code",
   "execution_count": 9,
   "metadata": {},
   "outputs": [],
   "source": [
    "data_sampler = DataSampler(explore.train, sample_percent=0.01)"
   ]
  },
  {
   "cell_type": "code",
   "execution_count": 10,
   "metadata": {},
   "outputs": [],
   "source": [
    "text_processor = ObsceneTextPreprocessor()\n",
    "clean_comments = text_processor.clean(data_sampler.data()['comment_text'])"
   ]
  },
  {
   "cell_type": "code",
   "execution_count": 11,
   "metadata": {},
   "outputs": [],
   "source": [
    "tokenizer = TextTokenizer(clean_comments)\n",
    "tokenised_comments = tokenizer.transform(clean_comments)"
   ]
  },
  {
   "cell_type": "code",
   "execution_count": 12,
   "metadata": {},
   "outputs": [],
   "source": [
    "# [tokenizer.get_word_by_index(i) for i in tokenised_comments[10] if i > 0]"
   ]
  },
  {
   "cell_type": "code",
   "execution_count": 13,
   "metadata": {},
   "outputs": [
    {
     "name": "stdout",
     "output_type": "stream",
     "text": [
      "Building matrix\n"
     ]
    }
   ],
   "source": [
    "embeddings, unknown = tokenizer.build_embedding_matrix(fast_text)"
   ]
  },
  {
   "cell_type": "code",
   "execution_count": 14,
   "metadata": {},
   "outputs": [],
   "source": [
    "X_train, X_test, y_train, y_test =  data_sampler.train_test_split(tokenised_comments, data_sampler.data()['toxic'])"
   ]
  },
  {
   "cell_type": "code",
   "execution_count": 15,
   "metadata": {},
   "outputs": [
    {
     "name": "stdout",
     "output_type": "stream",
     "text": [
      "Creating tensors\n",
      "Creating model\n",
      "Neural Net initialising\n",
      "Creating embeddings\n",
      "Creatingg LSTMs\n",
      "Creating linear\n",
      "Creating output\n",
      "Creating datasets\n"
     ]
    }
   ],
   "source": [
    "max_features = tokenizer.get_stats()[2] + 1\n",
    "\n",
    "trainer = PyTorchTrainer(X_train, X_test, y_train, y_test, embeddings, max_features )"
   ]
  },
  {
   "cell_type": "code",
   "execution_count": 16,
   "metadata": {},
   "outputs": [
    {
     "name": "stdout",
     "output_type": "stream",
     "text": [
      "Training model\n",
      "[1]\n",
      "Epoch 1\n",
      " 102.83%Epoch 1/1 \t loss=0.2861 \t time=162.33s\n"
     ]
    }
   ],
   "source": [
    "output = trainer.train_model(n_epochs=1)"
   ]
  },
  {
   "cell_type": "code",
   "execution_count": 17,
   "metadata": {},
   "outputs": [
    {
     "data": {
      "text/plain": [
       "0.5939412546507071"
      ]
     },
     "execution_count": 17,
     "metadata": {},
     "output_type": "execute_result"
    }
   ],
   "source": [
    "\n",
    "EvaluationMetrics.compute_auc(y_test, output)\n"
   ]
  },
  {
   "cell_type": "code",
   "execution_count": 18,
   "metadata": {},
   "outputs": [],
   "source": [
    "TOXICITY_COLUMN = 'toxic'\n",
    "\n",
    "def save_score(model_name, data, y_test, output):\n",
    "    validate_df = data.loc[y_test.index]\n",
    "    validate_df[model_name] = output\n",
    "    \n",
    "    return validate_df\n",
    "\n",
    "  "
   ]
  },
  {
   "cell_type": "code",
   "execution_count": 19,
   "metadata": {},
   "outputs": [],
   "source": [
    "validate_df = save_score('M1', data_sampler.data(), y_test, output)"
   ]
  },
  {
   "cell_type": "code",
   "execution_count": 20,
   "metadata": {},
   "outputs": [
    {
     "data": {
      "text/html": [
       "<div>\n",
       "<style scoped>\n",
       "    .dataframe tbody tr th:only-of-type {\n",
       "        vertical-align: middle;\n",
       "    }\n",
       "\n",
       "    .dataframe tbody tr th {\n",
       "        vertical-align: top;\n",
       "    }\n",
       "\n",
       "    .dataframe thead th {\n",
       "        text-align: right;\n",
       "    }\n",
       "</style>\n",
       "<table border=\"1\" class=\"dataframe\">\n",
       "  <thead>\n",
       "    <tr style=\"text-align: right;\">\n",
       "      <th></th>\n",
       "      <th>bnsp_auc</th>\n",
       "      <th>bpsn_auc</th>\n",
       "      <th>subgroup</th>\n",
       "      <th>subgroup_auc</th>\n",
       "      <th>subgroup_size</th>\n",
       "    </tr>\n",
       "  </thead>\n",
       "  <tbody>\n",
       "    <tr>\n",
       "      <th>4</th>\n",
       "      <td>0.106011</td>\n",
       "      <td>0.822251</td>\n",
       "      <td>jewish</td>\n",
       "      <td>0.321429</td>\n",
       "      <td>16</td>\n",
       "    </tr>\n",
       "    <tr>\n",
       "      <th>0</th>\n",
       "      <td>0.342433</td>\n",
       "      <td>0.710403</td>\n",
       "      <td>male</td>\n",
       "      <td>0.447368</td>\n",
       "      <td>82</td>\n",
       "    </tr>\n",
       "    <tr>\n",
       "      <th>3</th>\n",
       "      <td>0.388070</td>\n",
       "      <td>0.771850</td>\n",
       "      <td>christian</td>\n",
       "      <td>0.530303</td>\n",
       "      <td>69</td>\n",
       "    </tr>\n",
       "    <tr>\n",
       "      <th>7</th>\n",
       "      <td>0.447934</td>\n",
       "      <td>0.755549</td>\n",
       "      <td>white</td>\n",
       "      <td>0.642857</td>\n",
       "      <td>41</td>\n",
       "    </tr>\n",
       "    <tr>\n",
       "      <th>1</th>\n",
       "      <td>0.517871</td>\n",
       "      <td>0.756982</td>\n",
       "      <td>female</td>\n",
       "      <td>0.671429</td>\n",
       "      <td>89</td>\n",
       "    </tr>\n",
       "    <tr>\n",
       "      <th>8</th>\n",
       "      <td>0.707656</td>\n",
       "      <td>0.607060</td>\n",
       "      <td>psychiatric_or_mental_illness</td>\n",
       "      <td>0.750000</td>\n",
       "      <td>11</td>\n",
       "    </tr>\n",
       "    <tr>\n",
       "      <th>5</th>\n",
       "      <td>0.598230</td>\n",
       "      <td>0.795694</td>\n",
       "      <td>muslim</td>\n",
       "      <td>0.775862</td>\n",
       "      <td>35</td>\n",
       "    </tr>\n",
       "    <tr>\n",
       "      <th>2</th>\n",
       "      <td>0.514606</td>\n",
       "      <td>0.831089</td>\n",
       "      <td>homosexual_gay_or_lesbian</td>\n",
       "      <td>0.802632</td>\n",
       "      <td>23</td>\n",
       "    </tr>\n",
       "    <tr>\n",
       "      <th>6</th>\n",
       "      <td>0.576473</td>\n",
       "      <td>0.797844</td>\n",
       "      <td>black</td>\n",
       "      <td>0.843537</td>\n",
       "      <td>28</td>\n",
       "    </tr>\n",
       "  </tbody>\n",
       "</table>\n",
       "</div>"
      ],
      "text/plain": [
       "   bnsp_auc  bpsn_auc                       subgroup  subgroup_auc  \\\n",
       "4  0.106011  0.822251                         jewish      0.321429   \n",
       "0  0.342433  0.710403                           male      0.447368   \n",
       "3  0.388070  0.771850                      christian      0.530303   \n",
       "7  0.447934  0.755549                          white      0.642857   \n",
       "1  0.517871  0.756982                         female      0.671429   \n",
       "8  0.707656  0.607060  psychiatric_or_mental_illness      0.750000   \n",
       "5  0.598230  0.795694                         muslim      0.775862   \n",
       "2  0.514606  0.831089      homosexual_gay_or_lesbian      0.802632   \n",
       "6  0.576473  0.797844                          black      0.843537   \n",
       "\n",
       "   subgroup_size  \n",
       "4             16  \n",
       "0             82  \n",
       "3             69  \n",
       "7             41  \n",
       "1             89  \n",
       "8             11  \n",
       "5             35  \n",
       "2             23  \n",
       "6             28  "
      ]
     },
     "execution_count": 20,
     "metadata": {},
     "output_type": "execute_result"
    }
   ],
   "source": [
    "bias_metrics_df = EvaluationMetrics.compute_bias_metrics_for_model(validate_df, explore.identity_columns, 'M1', TOXICITY_COLUMN)\n",
    "bias_metrics_df\n"
   ]
  },
  {
   "cell_type": "code",
   "execution_count": 21,
   "metadata": {},
   "outputs": [
    {
     "data": {
      "text/plain": [
       "0.4913532135538389"
      ]
     },
     "execution_count": 21,
     "metadata": {},
     "output_type": "execute_result"
    }
   ],
   "source": [
    "EvaluationMetrics.get_final_metric(bias_metrics_df, EvaluationMetrics.calculate_overall_auc(validate_df, 'M1', TOXICITY_COLUMN))\n",
    "\n"
   ]
  },
  {
   "cell_type": "code",
   "execution_count": 419,
   "metadata": {},
   "outputs": [],
   "source": [
    "# explore = JigsawExploratoryAnalysis('../input/train.csv', '../input/test.csv')"
   ]
  },
  {
   "cell_type": "code",
   "execution_count": 420,
   "metadata": {},
   "outputs": [],
   "source": [
    "# train = explore.train\n",
    "# test = explore.test"
   ]
  },
  {
   "cell_type": "code",
   "execution_count": 504,
   "metadata": {},
   "outputs": [],
   "source": []
  },
  {
   "cell_type": "code",
   "execution_count": 31,
   "metadata": {},
   "outputs": [],
   "source": [
    "import matplotlib.pyplot as plt\n",
    "import seaborn as sns\n",
    "sns.set(style=\"darkgrid\")"
   ]
  },
  {
   "cell_type": "code",
   "execution_count": null,
   "metadata": {},
   "outputs": [],
   "source": [
    "display(explore.describe_train())"
   ]
  },
  {
   "cell_type": "markdown",
   "metadata": {},
   "source": [
    "### Sample the train and test data"
   ]
  },
  {
   "cell_type": "code",
   "execution_count": null,
   "metadata": {},
   "outputs": [],
   "source": [
    "train_sample  = explore.train.sample(3)\n",
    "train_sample"
   ]
  },
  {
   "cell_type": "code",
   "execution_count": null,
   "metadata": {},
   "outputs": [],
   "source": [
    "train_sample['homosexual_gay_or_lesbian'].isnull()"
   ]
  },
  {
   "cell_type": "code",
   "execution_count": null,
   "metadata": {},
   "outputs": [],
   "source": [
    "test.sample(3)"
   ]
  },
  {
   "cell_type": "markdown",
   "metadata": {},
   "source": [
    "### Train and test stats"
   ]
  },
  {
   "cell_type": "code",
   "execution_count": 94,
   "metadata": {},
   "outputs": [],
   "source": [
    "test_percent, toxic_comment_distribution = explore.calculate_stats()"
   ]
  },
  {
   "cell_type": "code",
   "execution_count": 95,
   "metadata": {},
   "outputs": [
    {
     "name": "stdout",
     "output_type": "stream",
     "text": [
      "The train set contains 1804874 number of samples\n",
      "The test set contains 97320 number of samples\n",
      "The test set is 5.392066% of the training set\n",
      "The test set contains 106438 toxic comment\n",
      "Toxic comments are 5.8972537695152125% of the total comments\n"
     ]
    }
   ],
   "source": [
    "print(\"The train set contains {} number of samples\".format(len(explore.train)))\n",
    "print(\"The test set contains {} number of samples\".format(len(explore.test)))\n",
    "print(\"The test set is {0:1f}% of the training set\".format(test_percent * 100))\n",
    "print(\"The test set contains {} toxic comment\".format(explore.train['toxic'].sum().sum()))\n",
    "print(\"Toxic comments are {}% of the total comments\".format(toxic_comment_distribution * 100))"
   ]
  },
  {
   "cell_type": "markdown",
   "metadata": {},
   "source": [
    "### Toxicity distribution"
   ]
  },
  {
   "cell_type": "code",
   "execution_count": 65,
   "metadata": {},
   "outputs": [
    {
     "data": {
      "text/plain": [
       "<matplotlib.axes._subplots.AxesSubplot at 0x13cc44c50>"
      ]
     },
     "execution_count": 65,
     "metadata": {},
     "output_type": "execute_result"
    },
    {
     "data": {
      "image/png": "[encoded data removed]",
      "text/plain": [
       "<Figure size 432x288 with 1 Axes>"
      ]
     },
     "metadata": {
      "needs_background": "light"
     },
     "output_type": "display_data"
    }
   ],
   "source": [
    "sns.distplot(explore.train['target'], hist=False, kde=True, label=\"Toxicity distribution\")"
   ]
  },
  {
   "cell_type": "markdown",
   "metadata": {},
   "source": [
    "### Distribution of toxic/non-toxic in the training set"
   ]
  },
  {
   "cell_type": "code",
   "execution_count": 59,
   "metadata": {},
   "outputs": [],
   "source": [
    "\n",
    "# train[identity_columns].fillna(0).values>=0.5).sum(axis=1).astype(bool).astype(np.int)\n",
    "\n"
   ]
  },
  {
   "cell_type": "code",
   "execution_count": 98,
   "metadata": {},
   "outputs": [
    {
     "name": "stdout",
     "output_type": "stream",
     "text": [
      "                        identity toxic_count  count  toxic_percent na_count\n",
      "0                           male        8284  80179       0.103319        0\n",
      "1                         female        7215  73690       0.097910        0\n",
      "2      homosexual_gay_or_lesbian        2612  15307       0.170641        0\n",
      "3                      christian        3418  61360       0.055704        0\n",
      "4                         jewish        1028  10905       0.094269        0\n",
      "5                         muslim        3731  26650       0.140000        0\n",
      "6                          black        3745  19563       0.191433        0\n",
      "7                          white        5350  29948       0.178643        0\n",
      "8  psychiatric_or_mental_illness        1802  10665       0.168964        0\n"
     ]
    }
   ],
   "source": [
    "toxic_stats = explore.calculate_toxic_stats_for_identities(threshold=0.0)\n",
    "    \n",
    "print(toxic_stats)\n"
   ]
  },
  {
   "cell_type": "markdown",
   "metadata": {},
   "source": [
    "### Number of samples with no identity"
   ]
  },
  {
   "cell_type": "code",
   "execution_count": 99,
   "metadata": {},
   "outputs": [],
   "source": [
    "no_identity_train, identity_train = explore.calculate_no_identity_stats()"
   ]
  },
  {
   "cell_type": "code",
   "execution_count": 100,
   "metadata": {},
   "outputs": [],
   "source": [
    "no_identity_toxic_count = len(no_identity_train[(no_identity_train['toxic'] > 0)])\n",
    "\n",
    "no_identity_count = len(no_identity_train)\n",
    "\n",
    "no_identity_toxic_percent = no_identity_toxic_count / no_identity_count\n",
    "\n",
    "identity_count = len(identity_train)\n",
    "\n",
    "assert(identity_count  + no_identity_count == len(train))\n"
   ]
  },
  {
   "cell_type": "code",
   "execution_count": 101,
   "metadata": {},
   "outputs": [
    {
     "name": "stdout",
     "output_type": "stream",
     "text": [
      "The number of samples with no identity is 1594682\n",
      "The number of samples with no identity that are toxic is 84154\n",
      "The percentage of samples with no identity that are toxic is 5.28% \n",
      "Train len is 1804874\n",
      "The number of samples with at least one identity is 210192\n",
      "The percentage of samples with one or more identity set is 11.65%\n"
     ]
    }
   ],
   "source": [
    "print(\"The number of samples with no identity is {}\".format(no_identity_count))\n",
    "print(\"The number of samples with no identity that are toxic is {}\".format(no_identity_toxic_count))\n",
    "print(\"The percentage of samples with no identity that are toxic is {0:.2f}% \".format(no_identity_toxic_percent * 100))\n",
    "print(\"Train len is {}\".format(len(train)))\n",
    "print(\"The number of samples with at least one identity is {}\".format(identity_count))\n",
    "print(\"The percentage of samples with one or more identity set is {0:.2f}%\".format(identity_count/len(train) * 100))\n"
   ]
  },
  {
   "cell_type": "markdown",
   "metadata": {},
   "source": [
    "### Distribution of toxic /non-toxic in subgroups\n",
    "\n",
    "<span class=\"q\">\n",
    "    Check subgroups threshold (e.g. 0.5) in Kaggle description\n",
    "</span>"
   ]
  },
  {
   "cell_type": "code",
   "execution_count": 102,
   "metadata": {},
   "outputs": [
    {
     "name": "stdout",
     "output_type": "stream",
     "text": [
      "          subgroup toxic_count   count  toxic_percent na_count\n",
      "0  severe_toxicity       57906  104636       0.553404        0\n",
      "1          obscene       70993  147175       0.482371        0\n",
      "2           threat       32254  106929       0.301639        0\n",
      "3           insult      105030  454539       0.231069        0\n",
      "4  identity_attack       62139  218552       0.284321        0\n",
      "5  sexual_explicit       24484   68926       0.355222        0\n"
     ]
    }
   ],
   "source": [
    "toxic_subgroup_stats = explore.calculate_toxic_stats_for_subgroups()\n",
    "\n",
    "print(toxic_subgroup_stats)\n"
   ]
  },
  {
   "cell_type": "markdown",
   "metadata": {},
   "source": [
    "### Is there a correlation between identities\n",
    "\n",
    "Sample 10000 records and check if there is any evident correlation between identities"
   ]
  },
  {
   "cell_type": "code",
   "execution_count": null,
   "metadata": {},
   "outputs": [],
   "source": [
    "sns.pairplot(explore.train[JigsawExploratoryAnalysis.identity_columns].sample(10000))"
   ]
  },
  {
   "cell_type": "markdown",
   "metadata": {},
   "source": [
    "### Number of toxic samples"
   ]
  },
  {
   "cell_type": "code",
   "execution_count": 103,
   "metadata": {},
   "outputs": [],
   "source": [
    "toxic_records = explore.train[explore.train[\"toxic\"] == 1]"
   ]
  },
  {
   "cell_type": "code",
   "execution_count": 104,
   "metadata": {},
   "outputs": [
    {
     "data": {
      "text/plain": [
       "106438"
      ]
     },
     "execution_count": 104,
     "metadata": {},
     "output_type": "execute_result"
    }
   ],
   "source": [
    "len(toxic_records)"
   ]
  },
  {
   "cell_type": "markdown",
   "metadata": {},
   "source": [
    "### Exploring some toxic comments with special characters\n",
    "\n",
    "<span class=\"warn\">\n",
    "    Add table layout\n",
    "</span>"
   ]
  },
  {
   "cell_type": "code",
   "execution_count": 106,
   "metadata": {},
   "outputs": [],
   "source": [
    "special_char_toxic = explore.train[(explore.train.comment_text.str.contains('[#$]')) & (explore.train.toxic == 1)]"
   ]
  },
  {
   "cell_type": "code",
   "execution_count": 107,
   "metadata": {},
   "outputs": [
    {
     "data": {
      "text/plain": [
       "[\"And that's the end of playboy. This is officially their last attempt to be relevant and it's a horrible, miserable failure. Society is going to $hit.\",\n",
       " \"The actual cost is more like $100,000 per day.  its not like the secret service wouldn't be watching him and his family anyway.  What a stupid thing to say.\",\n",
       " 'The shirt should be free and say\\n\"Bill Walker just stole  $1000 from me and all I got was this stupid T-shirt\"',\n",
       " 'Neither Sask. or Alta planned for the future...all that resource money just piddled away as if the good times would never end.  How is it that the Norwegians managed to save almost 1 trillion $ for future considerations?\\nAnd now that the party is over...these fools are standing there with their pockets empty...',\n",
       " 'Good Read ~ Thanks John ~ POS Seagull Killers for Target Practice These Are Not Hunters They are As*%$#s ~ Be Safe Out There ~ !',\n",
       " 'Clearly Mr. Carrington has serious personal issues....drugs, alcohol and anger management to name three.  He\\'s an extremely talented young man with skills which could take him to the NFL.  However, there are scores of young men today with those same skills AND without those off-field issues.  So many NFL teams have been burned by signing recruits with those off-field issues that they have become far more careful...Who can blame them.  We could field a team...an outstanding \"fantasy\" team of U of O players who have \"flamed out\" because of off-field issues.  That\\'s very very sad.  College athletics gives these young men and women a wonderful opportunity.....play a sport they love; get a free college education, have a very slight opportunity at the pro level (about a 1% shot), get a degree and, pro or not, have a better life.  ..smoke a little ganga, have a few beers and drive, get $#%ed off at some guy and knock him down..essentially be \"stupid\" and blow it all.  such a waste.. Gary Crum',\n",
       " 'This narcissistic man is an a$$hole. Plain and simple. Regrettably, he was allowed to breed.',\n",
       " \"hahaha, Singapore doesn't tax capital gains, Wall St. including GoldmanSachs fired many US employees and opened up in Singapore to bypass stupid taxation. Careful, the world has opened tax havens and corporations and the elite have started to shuffle their money and citizenship's around. There is such a thing as STUPID government, and Hawaii is #1 on the stupid list. LOL\\n\\nhttp://www.businessinsider.com/goldman-sachs-is-firing-employees-in-the-us-so-it-can-hire-1000-in-singapore-2011-6\",\n",
       " \"What makes me laugh is that this is all reported out of the Washington Post, the biggest liars on the planet, owned by- guess who-....Amazon's Jeff Bezos, and this rag picks it up with such glee! ,...and then the libtards slop it up without question).  Lol!  He uses it as his own personal trash tabloid as he hates Trump.  Don't worry the crash is coming....and guess who will lose about $50B of his net worth in that one.  He still won't feel it, but it will be a big shock to his monopolistic endeavors and ego.\",\n",
       " 'Oh, yes, sure, wearing badges will make you safe. \\n\\nThis is part of the \" gotta do something, even if it\\'s stupid and counterproductive, gotta do something....\"    And remember that you\\'re paying school district executives $120,000 a year to come up with this stuff.',\n",
       " \"You could be right. The going price the Liberals are paying for 'civil-rights violations' is $10.5 million, so why not? I'm pretty sure the fact that it was his own stupid fault, isn't going to matter.\",\n",
       " \"Allie, either you go out and get yourself loaded up with guns and ammo of all kinds to protect your your North Dakota a$$ and rejoin the United States and fight for our freedom, or be a NK Beeatch like you seem you are. i'm not saying our Potus is right, i;m saying when any President of our country say's to fight...dam it we fight to win, we don't need scum bag's like your self breathing what ever air we have left.\",\n",
       " \"No, you're completely correct. Humans are the biggest, most deadly, most arrogant and self-destructive predator species on the planet. But not the smartest. Unlike the vast majority of animals, we're too stupid not to s**# in our own home.\",\n",
       " \"I realize NCR, and most of its readers, are ultra-progressive 'never-Trumpers', but to attribute Clinton's loss to merely convergent circumstances, as the author does in the opening of his analysis, approaches malice. How could her personal history of hypocritical  'bimbo management’, the attempt to steal $200K of Whitehouse furnishings, the scandalous law-skirting behavior associated with her family’s charitable foundation, her criminally reckless abuse of national security information in her emails, her cooperation in the secret marginalization of her primary opponent - the list is formidable - how could all this be ignored? The only true quality she could run on was that she is a woman, which is typical of the Democrats who relentlessly slice and dice the electorate into race, class, and gender. It’s the US House which is representative, not the office of President. I think we should be on our knees thanking the Holy Spirit for saving us from this despicable person.\",\n",
       " 'Extreme vetting of ALL Americans traveling between states...Build a Yuuuge Wall around every state...Send these American Terrorist Animals and their family and friends out of America...Some quality solutions...#MAGA',\n",
       " 'So - anyone else see the tidal flow here?  I envision the total cost to the taxpayers to approach $50 million before it is all said and done.  This is a fine example of just how out of touch our elected/appointed representatives are.  Will the city run more efficiently?  Probably not but they will do so in an ultra nice environment.  I am not demeaning public workers, I was one (in emergency services), and do know how demanding the public can be, often without any factual basis for their demands!  But there should be a limit to the \"spend it all\" mentality!  This imposing edifice is a prime example of out of control architects, contractors, the city council and the mayor - who will strike their breast over the city having no money or taxes are too\\u200b high. SHAME ON YOU ALL!',\n",
       " 'Stupid! How many bureaucrats does it take to shift $100 million from one pocket to the other?',\n",
       " 'Obama knows no shame.  Same as Trudeau.   Because of their charm and smooth talking the public has set them up as idols and they now believe they can do no wrong .   Lines in the Sand,  Real Change, I am committed to electoral reform  , $10 billion deficit.  The electors swallowed it hook, line and sinker.  And now in desperation the US has elected an idiot like Trump as President   Let that be a lesson to Canadians',\n",
       " \"Crooked Hillary isn't the only opponent that Donald Trump defeated.  Some of the others are:\\n\\nThe corrupt Democratic Party, Barack Hussein Obama, Michelle Obama, Hairy Reed,  Nancy Pelosi,  Paul Ryan, Chris Wallace, Megyn Kelley, George Carville, Rachel Madcow, Hollywood, the filthy rapsters,  the heavily biased and lying mainstream media, the deceitful and/or stupid pollsters,  Obamacare,  political correctness, illegal immigration, #nevertrump, garycrum, China, MX, Iran, ISIS, yada yada yada..... quite an array of opposition.  Had it just been crooked Hillary, Mr Trump would have won bigly.  Very bigly.  I can assure you of that.\\n\\nBuh bye Democrats.  Y'all better smarten up or your party will evaporate into a cloud of noxious liberal flatulence.\",\n",
       " 'What a waste of $120,000. Bad enough they bought this, it\\'s worse they junked it and wasted the money. I would be all for this if crime went drastically down and it made our city safer. And now they want the PFD. More idiotic \"oops\" are coming.',\n",
       " 'Probably thought he could sell it in Waikiki for $100 for drugs. Stupid kine logic.',\n",
       " \"Like these black-clad fascists that attacked a gay man's right of free speach.\\nhttps://medium.com/@trentlapinski/the-berkeley-riots-were-a-cowardly-act-of-domestic-terrorism-2bcafbb32ff0#.rlbjjb1np\",\n",
       " 'Opinions and $4.00 will get you a cup of coffee at Starbucks. Labeling people and jumping to conclusions will get you ineffective confrontation, misunderstanding, and no progress what so ever. \\nHe who is without sin may cast the first stone. If you were to hold everyone to task for their statements then we all would be hypocrites; if you held us all to account for our past actions then we would all be monsters. Every addict would be a facist sexual predator, Every pious person would be an ignorant intolerant extremist, and every person who does not understand history, politics, and human behavior would be a moron. \\nGet excited about being alive, feel the love of your family and friends. But when it comes to politics and social change be rational, reasonable, understanding, and most of all find a way to work together; otherwise, you are doomed to repeat the mistakes of the past and your fears will be self fulfilling.',\n",
       " \"Dumb idea - tax the rich, the Cruise Line Industry, out of state landlords and instate and out of state corporations that are already charging a bit extra because they control markets here; take a good hard look at taxing the medical industry.  Stop giving away our natural resources.  Hey, $ 0.28/gallon gas tax - whew, how's that cheap place in The Valley working out for you?\",\n",
       " 'They should have kept him in the pokey. Thanks for screwing our state over, j@cka$$!',\n",
       " 'Your \"facts\"?  No credible sources.  Therefore I call BS.\\nThe facts that we do know are these:  She voted for the deal with 10 others.  She then received hundreds of $millions in BRIBES right after the vote to her phony as it gets  \"Charity\", which she never disbursed to Haiti.  She took in $Billions from all over the globe, from the Russians, and the Arabs.  That is why the Haitians all hate her and Bill.  They were used by the Clintons to make $Billions after the earthquake.  Russia gave Hillary over $145M  a few days after getting the rights to the uranium (Uranium 1 deal, 25%+ of our uraniumm used to make nukes). Russia did not do the deal so that they would not get the uranium pal. Your dots don\\'t line up.  Nobody is that stupid, except maybe the libtards.  And stop using Snopes for your \"proof\", it is embarrassing.  Hillary Clinton took over $145M from the Russians.  And you are worried about Trump Jr listening to some shake down crazy woman?  LOL!',\n",
       " 'Poloz is an incompetent \"one trick pony\"...........low Canadian dollar value is the only remedy to Canada\\'s economic problems.....low CDN$ supposedly equals more exports......problem solved....NOT!! When he was appointed from the EDC, the writing was on the wall......cheap Canadian dollar regardless that it erodes Canadians\\' quality of life and dramatically escalates our cost of living.......especially middle income families.  He doesn\\'t care given his insular position and high compensation package.  Pathetic Performance!',\n",
       " 'Too bad the $ 150 billion actually belonged to IRAN. It was all funds that had been impounded long before Obama was a senator.  But do  not let fact interfere with your stupidity.',\n",
       " \"“Mirka has an extensive criminal history and is considered dangerous. But yet he is free, don't understand the logic. Joseph Duncan was considered dangerous too and look what he did. Castrate these F#####S and let them rot in hell.\",\n",
       " \"We were told Rail would cost 3 Billion and NO property taxes would be needed and the financing was solid.  Now the truth is we were all LIED to and are still being LIED to by Caldwell, HART and ALL the INCOMPETENT donkeys in charge.\\n\\nI'm so sick and tired of this B$ and would really appreciate someone in power to finally say ENOUGH IS ENOUGH.  This Rail will likely destroy this city and only make EVERY Tax and Fee to increase.   We all have budgets to live within but these Democrats think that raising taxes is the smart thing to do?  Will Hawaii EVER wake up and realize that the Donkeys in charge are Liars and do not care about the residents only about getting re-elected.  The fact people were Marching against our President but NO ONE SAYS ANYTHING about this RAIL B$ shows how IGNORANT most voters and residents are in this state.  Born and raised here and SICK of the Donkeys making TERRIBLE decisions and you fools keep electing these same DONKEYS !\",\n",
       " \"... totally, when I lived in Chicago I could sit in my car for 1.5 hrs at a fairly high premium, take mass transit for $1.50 for an hour, or ride my bike for 20 mins ... some folks are stuck on dumb, you can't fix stupid!!\",\n",
       " 'Has everyone gone completely mad. What has happened to America. There is no lunatic fringe anymore, it includes all citizens. We are all pathetic together and deserve each other.  Crayon eating window lickers unite. Birth certificate no birth certificate, he said she said, who gives a @$#$.',\n",
       " 'I watched this clash from the protestors side last night on three seperate individuals live feed on Facebook. What was reported, by those who were attacked was they were there to remove privately owned vehicles that were set in fire so that there were better access to the camps for supplies and medical aide. Shame on you for publishing this and giving clearly racist POS false information to solidify some nasty stereotype their clearly retarded family has introduced them too. Shame, this is gross and you should be ashamed for this. Thanksgiving is this week and you are spreading lies to help the continuation of the decimation of the original peoples. Gross. Gross. Gross. #keepitintheground.',\n",
       " \"That's another comment that's just plain ridiculous. There are many cars out there, gas powered ones, worth $120,000. Names like Porsche, Ferrari, Aston Martin, etc, Even a Ford GT for that matter. So why would you make some crazy insult about a high end Tesla price.\",\n",
       " \"$14,000 a year would be the equivalent of what I expect in annual repayments from my Social Security fund.  F*ck these rich f*ckers who don't give two darns about any of us.\",\n",
       " 'There was no $50 million gazebo.  Why not try a little research because you are making yourself look foolish. \\nBTW the G7 summit came in at over $400 million UNDER BUDGET according to the auditor general.',\n",
       " 'Gun, if you believe what you wrote, just how are the individual Alaska Natives who will be losing $1,000 or more per (family) and in many cases more than 50% of their annual income being paid back by the so called corrupted Governor.',\n",
       " 'Sessions is real worried about white supremicists not being given a forum to spew hate-filled propaganda on college campuses, while his boss decries professional athletes protesting racial inequality and police murdering unarmed African-Americans with impunity. #MAGA',\n",
       " 'Since I\\'m sure someone will report my last comment here\\'s a cleaner not as offensive version. \"Obviously you didn\\'t go to Rumph Facebook page and see the slew of racist commentary from the pictured white folks who said everything from\\n\\n\"Eugenics worked to hopefully they will eradicate themselves\" and everything in between. My favorite had to be from Wendy Johnson who said she couldn\\'t understand what Rumph said because she \"doesn\\'t speak $(/@\". Like how special or how blind rather do you have 2 be to think that racism isn\\'t a huge issue here in Alaska? Scanning the comments a woman named Darvana Tressler said \"most natives are drunk violent n homeless n Ak is a crap hole\".\\n\\nI could go on all day long or you can go check those comments out for yourself it\\'s a public page. \\n\\nKaren Pharr I think her name is worked in the ASD until she commented on that post with a racially ignorant comment and a bunch of angry parents complained. Can you blame them? Job over just like that.',\n",
       " \"SKL,\\nWe'll never hear it on this site.  They have their CNN, MSNBC, and other radical leaders on the left feeding them talking points and its all they know. They all are 'told' how to 'correctly' respond to any given situation. If its not on their 'correction' list, it doesn't register.  There is a real vacancy in the  liberal mindset that is disturbing. The attempt to un-seat a constitutionally elected President is more than disturbing, it is borderline insanity.  They have tried since the election to #1 find voter fraud. None found. #2 convince electors to switch. A few did, Trump lost 1 Hillary lost 3(in Washington state, of all places!)  #3 a handful of  spiteful Reps in the House tried to have the official count stopped.  They couldn't get one single Senator to sign on.  #4  Right up to inauguration day phony lawsuits were filed and then withdrawn....Now they are resorting to a despicable ploy....Race Baiting. It is racist and disgusting.\",\n",
       " \"it is an accident, and it was his fault. it goes to an old saying always be aware of your surroundings. you can pretty him up like trevon all you want but that doesn't and shouldn't matter. Trevon was a thug, and you turned him into a martyr for something he clearly did not give a rats a$$ about. blacklivesmatter? to who? who does blacklivesmatter represent? hard working blacks? black hacks? black pimps? black thugs? black killers? black thieves? black crack heads? sounds like trump was right and all lives matter... in 100 years what will blacklivesmatter have gained you? more segregation more special treatment? more white resentment? what will it give you?\",\n",
       " 'She is ignorant of what happens in America and the rest of the world, Jewish Zionist Supremacist are leading the agenda of destroying white countries #US, #UK #EU with multiculturalism and she points the finger at Muslims.....the hypocrisy is not funny.',\n",
       " \"On Sept. 12, the U.S. government responded to Canada's inquiry on the pricing for 18 Super Hornets. The price tag came back at $6.4-billion.\\n========\\nWhy is this thing decided by American government? Are they a  free market economy? \\nI understand they make decision on export permission, but price? It is ridiculous.\",\n",
       " \"Another whopper from America's #1 pathological liar.\",\n",
       " \"Ambler- maybe. I could see a route from tanana being beneficial because of the amount of people coming/going. But...who's going to drive that? (After fueling stations deem it fiesable). That's a seriously long drive, and airfare beats those costs 10 fold. \\n\\nKnik arm. No. Not only would it save a small amount of time. It is chalk full of unconsolidated soils that would be subject to extreme damages from settling and an inevitable DISASTER when an earthquake strikes. The glenn is not that bad. They just need to make that sucker 3 lanes deep the entire way. \\n\\nIn the end, it is Fairbanks that will boom due to the incoming F-35 squadrons. Probably another 5k troops to benefit to the economy there. \\n\\nWe can see benefits in almost anything, sh*t=fertilizer. If you have a million dollars and you buy a million dollar house, it may be cool for awhile. \\n\\nUp until the property taxes come due. I'm a firm believer that building on crap will become crap itself. Fixing what we have is #1 priority.\",\n",
       " 'Yes, Trump is a very \"strong\" leader. He really stood up to Putin. All the world\\'s problems will soon come to an end thanks to Trump. And America, especially our young men, couldn\\'t ask for a better role model than The Great Orange Douchebag.\\n\\nSeriously, Dole and 90% of the GOP have their heads so far up their collective a$$es that they don\\'t even notice the crap that comes out of their mouths.',\n",
       " 'Let me get this straight. We are paying close to $3 billion to keep these asylum seekers in waiting here in Canada? I am dumb founded with this government. Utterly ridiculous.',\n",
       " 'The Civil Comments filter is working so well. Fools, dicks, wildly incompetent...lots of name calling in here, ADN. #fail',\n",
       " \"Bull!! The state isn't paying the $$...we are. There was no mention that these idiots in charge allowed this out of state company to lowbid AND SELF INSURE!! Criminal.  The head of the construction company just hightailed it out of town after selling his million $ plus Hawaii Kai waterfront home. This same bunch of clowns have allowed dishonest pay to play low bidders to screw up our airport.  Disgraceful....heads should roll.\",\n",
       " \"But pot & booze are ok?  No issues with them, huh?  More people die, and more lives are ruined by alcohol yearly, than the tobacco #'s could even begin to match.  Psh.....typical knee-jerk libtard reaction.  (Disclaimer: I am in NO way a teetotaler...just sick of the hypocrisy & one-sidedness)\",\n",
       " 'Where\\'s the ADN is more like it for article title. \\nGov.Walker proposed realistic solutions, the legislators not so much. DUMP the PFD! If we are $2 billion in the hole, so what the hell is State of Alaska doing trying to pay out pfds with money the State does not have?! Stupidity in action by pandering politicians! Unelect them people! Ignore the, \"I want my free money from the State\" people. If the State has no money, everything is different! One huge benefit with no PFD is State of Alaska is no longer a \\'loser magnet\\' for benefits requesters from all over the USA, and all benefit requesters-globally. People who want benefits and free everything rather than to right to use their skills or abilities to succeed in a new wonderful country!',\n",
       " \"Trump, Bannon and Breitbart’s Nazi Ties\\nAnd the Nazi Backer's Money Funding Trump's Agenda\\nhttps://www.buzzfeed.com/josephbernstein/heres-how-breitbart-and-milo-smuggled-white-nationalism?utm_term=.tiONGVy1L#.qmKlO6ng2\\nAll of this needs to be placed like a millstone around the necks of any politician who has anything to do with Mercer family and their money, starting with all those in the Trump administration and all those Republicans who continue to enable him.\\nIn Alaska, that means Sullivan, Murkowski and Young.\\nWelcome to Trump's fascist state.\",\n",
       " \"Where is that $100,000 now?  No one attached to the cemetery has seen it and the huckster who allegedly raised it won't account for it?  More lies from the muslim community.\",\n",
       " 'Someone that has an inkling of how TOTALLY FUCKED UP... our system is...\\n\\nDon\\'t just think about the Patent lawyers screwing you out of all your money, Think then about barrier # 2.  The academic frauds that have all the money in the world, if the idea is real, TOTALLY want  to screw you.... and decimate your reputation...\\n\\nThen #3, the business slease-bags, cause they realize theirs money in it,  obviously  for them,\\n\\nThey... Just have to dress up in the morning, and lie like thieves..\\n\\nGood luck with the whole \"High Tech\" thing.... in Can\\'t-A\\'Duh',\n",
       " \"Kleptocracy is a government with corrupt rulers (kleptocrats) that use their power to exploit the people and natural resources of their own territory in order to extend their personal wealth and political power.\\nKleptocracy - Wikipedia\\nhttps://en.wikipedia.org/wiki/Kleptocracy\\nThe definition of kleptocracy clearly defines what Trump has been since Putin won the election for him. Trump has  been exploiting the tax payers from day one and idiots can't see what is happening. Some conservative taxpayers don't mind giving a corporation $700M per year to move jobs to Mexico.\",\n",
       " \"petulant chump, the 5 year old drunk behind the wheel of an 18 wheeler on a dirt road speeding towards a crowded country festival having a jolly ol' time blowing his horn along the way, wants to show the world his driving skills while back home between his weekly breakneck golf games on his golf courses in the sunshine, of course always followed by the mandatory presidential $10 million a trip government funded security detail and his daily preoccupation with relaying the latest thought to come out of the random epileptic swirl inside his head like the ball finally landing on the number randomly in the roulette wheel, he still manages to find the time to care of the little guy....like de-obama care act.\",\n",
       " 'The fight of the Standing Rock and Blackfeet Sioux has nothing to do with your stupid white \"progressive\" causes. The elders asked you white protestors to go home. You are ignorant of your own history. It was \"progressive\" whites, Reconstructionists, that butchered 90% of my people. Your General Custer found gold in the Black Hills and your President Grant vacated the treaty signed with us and took that land for white settlers and miners. After the Civil War, you people abrogated virtually every treaty you had ever signed with Native American\\'s. Remember the movement, a few years back, where blacks demanded the monitory equivalent of \"40\\'avres and a mule\"? That was a promise General Sherman made to Buffalo Soldiers to join in slaughtering the Sioux, Shoshone, Nez Pierce, Crow, Blackfeet, and other Western people. Harriet Tubman, who Obama plastered on $20 bills, was the chief recruiter for Buffalo Soldiers. We don\\'t want you or your government controlling how we live. Go away.',\n",
       " \"Anybody who pays $750 for a $55 ticket is an asshole. That is simple economics. They're the Todd and Margo from Christmas Vacation.\",\n",
       " 'Lets see.... $55,000,000 / 500 people = $1,100,000  per person!!! Are they nuts?!',\n",
       " 'Between Dalton McGuinty and Kathleen Wynne\\nthey doubled the provincial debt to over $300 Billion\\nand she has the nerve to even think of\\nBasic income\\n.\\nshame\\nunethical\\nimmoral\\nsinful\\ninsane\\nincompetent',\n",
       " 'A witch hunt, nothing more nothing less. Did she give any thought to the 3,000 who died in New York and what success has the ICC had to date with the untold $millions which have been spent by this elitist \"old boys\\' club\". Pray tell why the Sudanese President is still at large and Mugabe travels freely throughout the world? Ermine robed, latte sipping parasites - that is the ICC.',\n",
       " \"Repeal it don't replace it or replace it to what we has before.Before=2500.00 deductible NOW $6850.00 and 100.00 office visits.America got FUCKED\",\n",
       " \"The Senate health care bill is, in two words, a COLOSSAL JOKE... It does absolutely NOTHING to repeal #Obamacare, it keeps the regulations, the subsidies, the Medicaid expansion, and then LAUGHABLY, in typical D.C. fashion, promises... wait for it... to make REAL changes in 2020... Yep, with a NEW Congress, possibly a NEW president... Are you laughing? ... Has your head slammed the door? ... They ain't changing DIDDLY -- this bill enshrines Obamacare... This bill is a disaster... Call your crook and tell him to vote NO... And, while you're at it, keep an eye on Cruz, Lee, and Rand Paul -- they must STOP this... REJECT it... Must treat McConnell like his doppelganger, HARRY REID, and throw this steaming diarrhea-pie in his face.\",\n",
       " \"To me, this 'screw you' sentiment smacks of blind ignorance, jealousy or stupidity. \\n\\nImagine the time/cost/effort specialists must devote 7 days a week for years before being able to help people and earn a living.  Name one other profession where the cost of earning the right to practice your profession costs $200,000 or more !  Only with doctors does the government decide when you've earned enough, regardless of the fact there are more customers in dying need of help waiting weeks or months in the dark.\\n\\nTo all those that think this group will not be missed, be prepared to eat your words should you or yours fall victim to anyone one of the many adult or childhood cancers, or need open heart surgery, or a new hip or knees. Visit Sick Kids Hospital, walk the floors, see the agony and heartache that rules daily, and imagine that some or all of the only people who have the knowledge and skill and experience to save those lives is gone. And then never coming back.\",\n",
       " \"Trump is a buffoon. He is the face of treason and betrayal, replacing Benedict Arnold in the history books, standing on the fully supportive shoulders of the GOP.\\n\\nTrump supporters think he will build a wall, kick a bunch of brown people out, and most importantly, Make America “Great” Again. They hope he will get rid of Obamacare, which ironically, will hurt them the most. Under Obamacare, my pre-existing condition is insured. Before it, I struggled to make payments. Under the exchange, I pay just $200/month for health insurance. Also - My car insurance is down to $25/month (from Insurance Panda). My renters insurance is just $10/month. Under Trump, America will become too unaffordable to live in. \\n\\nTrump is either a buffoon -- not good -- or in service of the Russians -- same. His advisors and Congress need to stop enabling and apologizing for Trump's treasonous behavior. Congress needs to commence impeachment proceedings.\",\n",
       " 'Mcgarret and Dano can kiss my a$$. This show stinks!!!!',\n",
       " 'Libs and their stupid popular vote. Large, welfare cities voted for her. Trump blew her out in the # of counties and states he won. The popular vote means NOTHING.',\n",
       " \"Sad. Sick. Disgusting.  I suppose you don't want any tax money to provide police and fire services for the JCCs .... but it's OK to spend those $$$ on Unholy Unmother Unchurch?\",\n",
       " \"People who copy other's accounts are immature a**h*%#*.\",\n",
       " 'Hmmm....does hooker ring a bell on the trailer park door?   Goes home with money and comes back for more......sounds to me like a  who#%!!!!',\n",
       " 'C\\'mon, Andy--thought you knew better.  My disagreeing with a woman doesn\\'t mean I\\'ve denigrated or discriminated against her.  If I do ridicule her argument it\\'s because it was a stupid argument.  If the woman responds with emotion-driven, fact-free, irrational twaddle-speak I will say as much--without apology.  Being female doesn\\'t exempt one from having buII$hit called on her.\\n\\nExample: I have argued against single-track mountain-bike trails in high-density bear habitat based on public safety and wildlife conservation concerns.  A fatuous female named Lucille Bluth responded by accusing me of not wanting people to RIDE BIKES and wanting HER to stay home and have babies!  Naturally, I gave such an imbecilic reply all the ridicule it deserved.\\n\\nAsk Roy Anthony (or any of his hundred aliases), Richard Rhyner, \\'Evan S. Singh\\' or \\'Koncerned\\' if I respond to \\'em any more \\'gently\\' than I would a female who engages in abject stupidity.  \"Stupid is as stupid does, ma\\'am.\"',\n",
       " 'This is UTTER CRAP! I pay almost $3000 a month in rent to a slumlord landlord for a three bedroom in Vancouver (which is \"cheap\"), yet these homeowners, most of whom got money from mommy and daddy because there\\'s no way in hell they could afford it themselves, need us renters to subsidize their fat asses? \\n\\nSCREW YOU!!!!!!!!!!\\n\\nI make more money than all the people that I know that own a home, and only because of their damn parents, are they able to afford a home. SCREW YOU!!!!!!!!!!!!!!\\n\\nYou motherless losers deserve nothing. That\\'s over a billion dollars in welfare that goes to these home owning losers. That billion could go to healthcare, education, a whole host of other things, but instead it goes to help out these pathetic excuses for human beings?\\n\\nF THAT! \\n\\nWe need a god damn Donald Trump type candidate to get in here and make things right. This is crap. \\n\\nI AM SO SICK OF THIS!',\n",
       " 'That is SUCCESS to Cladwall.  That is $400K more to pay off a contractor to the build the useless bulbouts that no one wanted except the homless and now another $400K to remove them!  Cladwall for Gov!',\n",
       " 'What\\'s hilarious is the media band wagon jumping on Johnsons flubs and touting them as reasons he is \"unfit for office\" - in the meantime leaving us with the option to vote for our two AMAZING candidates. One, a lying, sexist, racist scumbag and the other a lying, deceitful, unmoral, manipulative life long politician who stands for nothing but whoever is lining her pockets. \\n\\nNO THANKS. I\\'ll take my chances with third party. #johnsonweld2016',\n",
       " \"Perhaps it is time to pause and reflect why the Liberals were turfed out the last time. Adscam, the sponsorship scandal, Shawinigate and I'm entitled to my entitlements are some of the many reasons why. I'm surprised they are back at it so quickly.\\nIf anyone thinks government business is not being discussed for $1500, they are a primary candidate for the sunny ways certificate of stupidity.\",\n",
       " \"Oil companies legally owe us billions from audits after they were caught cheating on taxes.\\n\\nWhen oil companies thought they overpaid, they sued the state for $100 million plus $400 million in interest.\\n\\nWhen the legislature found out we were owed billions after FERC caught oil companies inflating production costs, the legislature reduced their interest to only 3 years.\\nhttps://www.adn.com/opinions/2016/11/29/with-pfd-cut-on-the-line-oil-company-arguments-about-fine-points-of-tax-regs-will-backfire/\\n\\nThe legislature is being run by criminals planted by the oil industry, there is no other explanation.\\n\\nWe don't owe them a damn thing, they owe us money.  \\n\\nAnd the corrupt bastards need to be thrown in prison for continuing to brazenly give our revenue away to their employers.\\n\\nWhere is the freaking FBI when you need them?\",\n",
       " 'In pointed tweets a day after U.S. President Donald Trump put a four-month hold on allowing refugees into the United States and temporarily barred travelers from the seven countries, Trudeau said refugees were welcome in Canada.\\n\\nTo those fleeing persecution, terror & war, Canadians will welcome you, regardless of your faith. Diversity is our strength #WelcomeToCanada\\n\\n- Justin\\n\\nDisgusting irresponsibility all in the name of our vainglorious and self-absorbed official mascot.',\n",
       " \"The court determined, apparently, that the rapist was crazy, and the drug dealer greedy. While the former harmed one person, the latter harmed many. The victim of the attack apparently agreed with the sentence. Where did you get the ratings for crooked towns? Not disagreeing -- just would like to see who's #2. If that's provable we should be advertising. Fame is a tourist draw.\",\n",
       " 'Arrogant F$*#s! No we know better than you do, but oh wait, nevermind sorry for being an as*hole. \\n\\nYou encourage people to report crime and then tell them crime is not on the rise when they tell you it is... Smh typical of APD',\n",
       " 'you are clearly a fool, there is no 97% support anything on climate change loser, but you keep living the nut job fantasy\\n\\nhttps://www.forbes.com/sites/jamestaylor/2013/05/30/global-warming-alarmists-caught-doctoring-97-percent-consensus-claims/#9ca31d8485dd\\n\\nhttp://www.populartechnology.net/2013/05/97-study-falsely-classifies-scientists.html',\n",
       " \"Nothing was fixed, its broke and won't be repaired. As he said he won't be hiring anyone at age 15 anymore ! Not sure why they couldn't have just warned him, instead they fine him $$$$$, and leave a sour taste in your mouth and make that file a little thicker to show what a great job they did catching these scoundrel's*.       *a dishonest or unscrupulous person; a rogue. I think not.\",\n",
       " \"trump is different in many, many ways starting w/his grasp of what the job entails and the issues he is now responsible and accountable for (despite his assertion that he will not 'own' it, he owns trump care).\\nHis understanding of healthcare is micro thin.\\nHe believes that health insurance costs $12/year.\\nHe takes 4 different positions on healthcare in 2 days.\\nWTF?\",\n",
       " 'Paul Martin eliminated the deficit (not the Federal Debt) by massively slashing health and education transfers to the Provinces, which simply transferred the Federal Deficit to the Provinces. Ontario, under the Liberals, is going bankrupt because of Liberal fiscal mismanagement. \\nTrudeau junior has already added $30 billion to the deficit and that is only after 1-year in office!\\nLiberals have nothing to teach us about money management. \\nThey are fiscal morons.',\n",
       " 'Obviously you have no clue to the characteristics necessary for being a successful Head Coach. #1 Tell Elway to \"get lost\" and stop looking over my shoulder. #2 Discipline, no nonsense, and forget that \"players coach\" crap. That\\'s a recipe for failure right out of the gate...Vance Joseph is missing a great deal of traits for head coaching. He needs to go back to D Coordinator.',\n",
       " 'What an A$$clown circus, Ringling Bros. Barnum and Bailey never had a chance, no wonder they just filed for bankruptcy.',\n",
       " 'These people are profoundly stupid. Lone Pine is an excellent example of what I am addressing. This local grower is not welcomed in downtown Eugene as they are openly discriminated against. LCFM prevents any and all growers from vending downtown Eugene who do not rip off the community gouging $1.50 for a single ear of corn.',\n",
       " \"I can't believe these ecoFascist snowflakes are suing GM. Clearly nobody is interested in the deep ecology purple haze koolaide of a bunch of urban cowboys. If they really cared about their misconceived notions regarding the environment they would just buy an electric vehicle or better yet a moped. \\n\\nThe stance and position of riding in a 4x4 says it all, SMOG MACHINE!. Easier to look down on the plebs. $100 fill ups? The pickup has become a $100,000 luxury status symbol. Sounds like some pretty big lifestyle sacrifices in owning that sort of attitude. What else would you expect? In five years we will see if these lumpkins are still as bright eyed and bushy tailed about the whole thing. I can see having to console a lot of people about their buyers remorse over the mistake of purchasing a stupid duty air-hauler in the years to come. Truck buyers are generally shocked to find out how worthless their vehicle is when it comes time for tradein and again will take their ire out on the EPA.\",\n",
       " 'Trump has been punching down and sucking up his entire life.  He throws underlings under the bus, and cozies up to Putin and his alleged $200 billion fortune.',\n",
       " \"Bunch of low achieving lampreys looking to kick it and collect a salary with minimal stress. Story of Nei government.\\n\\nIn fact, it's G-D EMBARRASSING that so many of these lifers are crawling over each other for this. But they HAVE NO SHAME!\\n\\n#PATHETIC!\",\n",
       " 'welcome...i also always appreciate a good laugh...heck..a half smile will do. some very funny people on here..\\n  need it!   at least once a day, every day, since the election, i freak out and yell \"jesus, mary and joseph!!!...PRESIDENT *7*%$#  donald TRUMP OF THE UNITED STATES?  WHAT &^%* IDIOTS!!! ARRRRGGHHH. i actually haven\\'t paid much attention, as i truly no longer feel like i\\'m part of a nation that would  ELECTORALLY choose that fool. the electoral college system is antiquated and has to go.  we got stuck with dubya and now trump after they lost the popular vote. trump picking a cabinet is like a twisted tv reality gameshow version  of \"duck , duck , you\\'re screwed\".  or like it\\'s season 1 episode1  of \"Donald Does D.C.\" with guest appearances from Putin, every trump relative in the world.- and they were worried about bill!. surprise appearances of various investigative committees and possibly several USA military branches in a 3 part special simply called  \"Coup\" .\\noff topic-:O',\n",
       " 'Item # 1: get rid of this ridiculous civil comments crap.',\n",
       " \"Reading your post I think I'm listiening to the #1 idiot!\",\n",
       " 'Christains, a name given by Rome to cement state sponsored power, have been blindly following \"Simon the Magician\" since before Revelations was written. Instead of finding out for themselves, they go get spoon fed with twisted seminary religious con men out to build the mansions on earth with money taken by guilt and out right lies. They don\\'t care or believe in truth because they believe GOD wants us all to be rich. The preachers organizations have destroyed any chance of being believe they speak for GOD. I believe it is a brilliant trick of satan himself laughing his a$$ off. He owns them.',\n",
       " 'From article: \"The agreement promises immediate action to ... (co-operate) with the Mayors’ Council...\\n\\n \"Mr. Horgan said Tuesday he will proceed with the elimination of tolls on bridges\"\\n\\nTranslink\\'s MC has for years supported tolls on Metro Vancouver\\'s bridges.\\n\\nUnethical of G + M to not report this!\\n\\nBC\\'s RESIDENTS NEED BC GOVT TO REVERSE TRANSLINK\\'s MAYORS\\' COUNCIL\\'s MONUMENTALLY STUPID AGENDA:   \\n\\n-  for a $2.5 billion subway for the 44 sq mile city of Vancouver (although the city already has 3 separated-from-roadway, computer-driven rapid transit lines); & while\\n\\n- stingily committing to a mere $1 billion for a 19th century technology street car system for SOF cities\\' - 248 sq mile Surrey & the 2 Langleys- despite their being BC\\'s fastest growing 2007-17!!\\n\\nhttp://skytrainforsurrey.org/\\n\\nCity of Vancouver population= 630,000\\nSurrey + the 2 Langleys\\' population= 710,000\\n----  \\nSurrey\\'s annual pop increase= over 12,000\\n2 Langley\\'s annual pop increase= over 4000\\n50+% needing schools',\n",
       " \"This is the clown (the uncouth, racist, bigot) that claims to want to have a civil engagement? I wonder why he hasn't been arrested yet...the mother f#cking Sh!tbag???\",\n",
       " \"MY goodness, I get it the guy stole money and got creative in doing it which showed both his stupidity and his stupidity :) Still, 20 years for stealing from his boys and workplace????? He can't repay kaka while he is sitting in prison making $70 a month AAAAAAAANd I don't get it! Murders and hit and run drunk killers get 4 years or less, something is pretty screwed up with the balance on the scales here. Auwe, I just don't get it.\",\n",
       " \"Wowza! Newt the #1 Trumptard said Trumpf is an F'n liar. But no other Un America, party before country, republican said a word. They all sauck and are letting this lunatic destroy our country. Trumpf is totally unqualified. Instead of getting world respect we have world disdain.\",\n",
       " 'Ah, right, the Barker lady is going to attend an Asian-American studies class? Like that\\'s going to help, is she required to \"pass it with at least a C+ or better\". Barker will probably either cut her classes or harass the other students in the class.  The $5,000 fine and banning her from Airbnb is probably the more effective method to treat her condition but there are millions of closet-racists like her out there.',\n",
       " \"Here I will just say it. \\nA terrorist's brother-in-law went afCanistan with his new recruit.\\n\\nThey went there to train, khadr got 10 million, his friends there were pi $$Ed, they kidnapped the guy and love happened....\\n\\nNext they sue and get 20 million and send it back home through bitcoin.\\n\\nWash, rinse, repeat and Jughead dithers\\nCBC News at 10 as 2 new couples get captured backpacking in afcanistan.\\n\\nPerfectly believable to useful idiots\",\n",
       " 'A pathetic 19% voter turnout. And almost all the bonds passed, I guess people are suckers and believed the radio and tv ads. As of Dec 31, 2016, the Anchorage municipality had bond debt of $428 million. But I guess adding a few more million is just a \"wash\".']"
      ]
     },
     "execution_count": 107,
     "metadata": {},
     "output_type": "execute_result"
    }
   ],
   "source": [
    "c = [x for x in special_char_toxic.sample(100).comment_text]\n",
    "\n",
    "c"
   ]
  },
  {
   "cell_type": "code",
   "execution_count": 702,
   "metadata": {},
   "outputs": [
    {
     "name": "stdout",
     "output_type": "stream",
     "text": [
      "32072\n",
      "8018\n"
     ]
    }
   ],
   "source": [
    "expr = explore.train['male'] > 0\n",
    "\n",
    "X_male_train, X_male_test, y_male_train, y_male_test = \\\n",
    "    explore.train_test_split_by_columns(['comment_text'], 'toxic', expr, 0.5)\n",
    "\n",
    "text_processor = ObsceneTextPreprocessor()\n",
    "\n",
    "\n",
    "t = TextToIntTransformer(X_male_train['comment_text'], X_male_test['comment_text'])\n",
    "e = time.time()"
   ]
  },
  {
   "cell_type": "markdown",
   "metadata": {},
   "source": [
    "### Tokenisation"
   ]
  },
  {
   "cell_type": "code",
   "execution_count": null,
   "metadata": {},
   "outputs": [],
   "source": [
    "# def preprocess(data):\n",
    "#     '''\n",
    "#     Credit goes to \n",
    "#     https://www.kaggle.com/gpreda/jigsaw-fast-compact-solution\n",
    "#     and\n",
    "#     https://www.kaggle.com/gromag/simple-lstm-using-identity-parameters-solution\n",
    "#     '''\n",
    "#     punct = \"/-'?!.,#$%\\'()*+-/:;<=>@[\\\\]^_`{|}~`\" + '\"\"“”’' + '∞θ÷α•à−β∅³π‘₹´°£€\\×™√²—–&'\n",
    "#     punct = \"/-'.,%\\'()+-/:;<=>[\\\\]^_`{|}~`\" + '\"\"“”’' + '∞θ÷α•à−β∅³π‘₹´°£€\\×™√²—–&'\n",
    "    \n",
    "#     def clean_special_chars(text, punct):\n",
    "#         for p in punct:\n",
    "#             text = text.replace(p, ' ')\n",
    "#         return text\n",
    "\n",
    "#     data = data.astype(str).apply(lambda x: clean_special_chars(x, punct))\n",
    "#     return data"
   ]
  },
  {
   "cell_type": "code",
   "execution_count": null,
   "metadata": {},
   "outputs": [],
   "source": [
    "# x_test = preprocess(test['comment_text'])\n",
    "# x_train = preprocess(train['comment_text'])"
   ]
  },
  {
   "cell_type": "code",
   "execution_count": 39,
   "metadata": {},
   "outputs": [
    {
     "name": "stderr",
     "output_type": "stream",
     "text": [
      "[nltk_data] Downloading package stopwords to\n",
      "[nltk_data]     /Users/giusepperomagnuolo/nltk_data...\n",
      "[nltk_data]   Package stopwords is already up-to-date!\n"
     ]
    },
    {
     "data": {
      "text/plain": [
       "True"
      ]
     },
     "execution_count": 39,
     "metadata": {},
     "output_type": "execute_result"
    }
   ],
   "source": [
    "import nltk\n",
    "from nltk.tokenize import RegexpTokenizer\n",
    "from nltk.corpus import stopwords \n",
    "import re\n",
    "#Download stopwords\n",
    "nltk.download('stopwords')"
   ]
  },
  {
   "cell_type": "code",
   "execution_count": 49,
   "metadata": {},
   "outputs": [],
   "source": [
    "# #Use the English stopword list\n",
    "stop_words = set(stopwords.words('english'))\n",
    "# #Add additional stopwords to our set\n",
    "stop_words.update()\n",
    "tokenizer = RegexpTokenizer(r'[\\%\\@\\&\\$\\#\\w\\!\\*]+')\n",
    "\n",
    "leave_words = ['i', 'you', 'myself', 'yourself', 'no', 'she', 'themselves', 'he', 'we', 'only', 'up', 'your', 'my', 'mine', 'yours', 'hers', 'her', 'his']\n",
    "\n",
    "stop_words_amended = [w for w in stop_words if (not w in leave_words)]\n",
    "\n",
    "#Tokenise text removing stopwords and digits\n",
    "def tokeniseDoc(doc):    \n",
    "    out = [w.lower() for w in tokenizer.tokenize(doc) if (not w.lower() in stop_words_amended) and not re.search(\"\\d+\", w) ]\n",
    "    return out\n",
    "\n",
    "clean_comments = [ tokeniseDoc(doc) for doc in data_sampler.data()['comment_text']]\n",
    "\n",
    "\n",
    "\n"
   ]
  },
  {
   "cell_type": "markdown",
   "metadata": {},
   "source": [
    "### Comments using special characters\n",
    "\n",
    "Special characters might indicate camuflaged swear words."
   ]
  },
  {
   "cell_type": "code",
   "execution_count": 569,
   "metadata": {},
   "outputs": [],
   "source": [
    "# dollar =[c for c in clean_comments if len([w for w in c if re.search('\\$', w)]) > 0 ]\n",
    "\n",
    "dollar =[c for c in clean_comments if re.search('\\$', c) ]"
   ]
  },
  {
   "cell_type": "code",
   "execution_count": 570,
   "metadata": {},
   "outputs": [
    {
     "data": {
      "text/plain": [
       "['Perhaps voter fraud 2016 else would reality show host phony $3 bill get elected president',\n",
       " 'My APPL I sold recently bought new car I first bought $14 split x8 since',\n",
       " 'Sure Government Canada 5 year bond according Cat math almost guaranteed rise current 0 949% yield 4 3% within two years! lottery like 350% return bet two years you somehow think reasonable assumption WOW! Tell you ever seen prognosticated your crystal ball yields going roof happened gold $5 000 oz shortly oops no ENB drop $20 per share bad far we still seven weeks go guarantee yours BMO wll trade $80 share debt equity ratio might atrocious only you company high risk business obvious ENB fact low risk conservatively run business you note ENB debt equity ratio fallen risk Your ENB meltdown 12 31 15 $46 today $53 51 including divs PLUS 16 3% 22% cat meltdown wow',\n",
       " 'I feel somewhat inappropriate 80 year old I would still replying RoB failing specifically address issues around capital preservation income seniors article perfect example we get 2007 8 type correction last thing need 40% loss capital high flying rate sensitive niche sector 40% loss feel great you 70 75 etc would far safer 75 least 50% reset preferred laddered corporate bonds GIC etc My mother btw nice pension lives modestly keeps her $$ GIC',\n",
       " 'reason want take PFD checks year supposed around $2500 next year $2250 take biggest ever checks decide handle seems done good job handling far we mess ways i hope pass times past people always got vote came touching PFD happened',\n",
       " 'Caviar%20Emptor says GTA still massively overpriced relation financial fundamentals INCORRECT Unless you uses fundamentals banks use Housing Expense Ratio Housing Expense Ratio ratio comparing housing expenses tax income used lenders qualify borrowers mortgage housing expense measure includes mortgage principal interest payments property taxes hazard insurance mortgage insurance association fees limit generally 28% http www investopedia com terms h housing_expense_ratio asp#ixzz4qi6aaJ9P 1 2 million dollar detached home 200 000 payment leaves million dollar mortgage 2 94% rate soon disappear monthly payment $5 086 72 Add 500 everything else get mortgage buyers needs monthly gross 19 952 bucks 240Gs year average Toronto family makes 68 110 Quite fundamental gap',\n",
       " 'forget her her family record $ 200 million Republican campaigns',\n",
       " 'family right determine time resuscitation measures stopped OHIP public payer system also able set utilization standards situation treatment proven unable restore meaningful function words treatment futile OHIP able defund service I confident day $10 000 day ICU bills no longer paid state family reconsider religious obligations keep man ICU unresponsive thinnest decade',\n",
       " 'Probably soon you post yours We tax cuts 30 years pal you want keep paying high taxes Maybe you wory your finances rather jealous Trump wealth created hard work Trump pays $millions taxes you He even taken vacation yet 10 months time Obama taken 20 his wife took many fact she even took separate plane day went Hawaii taxpayer dime $Millions dollars wasted she ride She took flight 4 hours later Hawaii military arrange accompany separate planes costs $millions time work ya since you concerned $things We await your tax returns glee! Please hurry!!',\n",
       " 'Beginning early 1970s federal government began incurring ever increasing deficits annual amount government spending exceeds revenues 1995 annual deficit reached extreme levels totaling $37 5 billion Moreover result persistent deficit financing federal government total debt total past deficits surpluses since Confederation grew $20 billion 1971 $588 billion 1996 1994 95 cost maintaining debt load $42 billion accounting approximately 26 percent annual federal budget Source Statistics Canada Federal Finances http www mapleleafweb com features legacy former prime minister jean chr tien html']"
      ]
     },
     "execution_count": 570,
     "metadata": {},
     "output_type": "execute_result"
    }
   ],
   "source": [
    "dollar[0:10]"
   ]
  },
  {
   "cell_type": "code",
   "execution_count": 32,
   "metadata": {},
   "outputs": [],
   "source": [
    "train_path = '../input/jigsaw-unintended-bias-in-toxicity-classification/train.csv'\n",
    "test_path = '../input/jigsaw-unintended-bias-in-toxicity-classification/test.csv'\n",
    "\n",
    "\n",
    "explore = JigsawExploratoryAnalysis(train_path=train_path, test_path=test_path)"
   ]
  },
  {
   "cell_type": "code",
   "execution_count": 48,
   "metadata": {},
   "outputs": [],
   "source": [
    "data_sampler = DataSampler(explore.train, sample_percent=0.3)"
   ]
  },
  {
   "cell_type": "code",
   "execution_count": 33,
   "metadata": {},
   "outputs": [],
   "source": [
    "from keras.preprocessing import text, sequence"
   ]
  },
  {
   "cell_type": "code",
   "execution_count": 34,
   "metadata": {},
   "outputs": [
    {
     "ename": "NameError",
     "evalue": "name 'x_train' is not defined",
     "output_type": "error",
     "traceback": [
      "\u001b[0;31m---------------------------------------------------------------------------\u001b[0m",
      "\u001b[0;31mNameError\u001b[0m                                 Traceback (most recent call last)",
      "\u001b[0;32m<ipython-input-34-b15e40581ac4>\u001b[0m in \u001b[0;36m<module>\u001b[0;34m\u001b[0m\n\u001b[1;32m      1\u001b[0m \u001b[0mtokenizer\u001b[0m \u001b[0;34m=\u001b[0m \u001b[0mtext\u001b[0m\u001b[0;34m.\u001b[0m\u001b[0mTokenizer\u001b[0m\u001b[0;34m(\u001b[0m\u001b[0;34m)\u001b[0m\u001b[0;34m\u001b[0m\u001b[0;34m\u001b[0m\u001b[0m\n\u001b[0;32m----> 2\u001b[0;31m \u001b[0mtokenizer\u001b[0m\u001b[0;34m.\u001b[0m\u001b[0mfit_on_texts\u001b[0m\u001b[0;34m(\u001b[0m\u001b[0mlist\u001b[0m\u001b[0;34m(\u001b[0m\u001b[0mx_train\u001b[0m\u001b[0;34m)\u001b[0m \u001b[0;34m+\u001b[0m \u001b[0mlist\u001b[0m\u001b[0;34m(\u001b[0m\u001b[0mx_test\u001b[0m\u001b[0;34m)\u001b[0m\u001b[0;34m)\u001b[0m\u001b[0;34m\u001b[0m\u001b[0;34m\u001b[0m\u001b[0m\n\u001b[0m\u001b[1;32m      3\u001b[0m \u001b[0mMAX_LEN\u001b[0m \u001b[0;34m=\u001b[0m \u001b[0;36m220\u001b[0m\u001b[0;34m\u001b[0m\u001b[0;34m\u001b[0m\u001b[0m\n\u001b[1;32m      4\u001b[0m \u001b[0;34m\u001b[0m\u001b[0m\n\u001b[1;32m      5\u001b[0m \u001b[0mx_train\u001b[0m \u001b[0;34m=\u001b[0m \u001b[0mtokenizer\u001b[0m\u001b[0;34m.\u001b[0m\u001b[0mtexts_to_sequences\u001b[0m\u001b[0;34m(\u001b[0m\u001b[0mx_train\u001b[0m\u001b[0;34m)\u001b[0m\u001b[0;34m\u001b[0m\u001b[0;34m\u001b[0m\u001b[0m\n",
      "\u001b[0;31mNameError\u001b[0m: name 'x_train' is not defined"
     ]
    }
   ],
   "source": [
    "tokenizer = text.Tokenizer()\n",
    "tokenizer.fit_on_texts(list(data_sampler.data()))\n",
    "MAX_LEN = 220\n",
    "\n",
    "# x_train = tokenizer.texts_to_sequences(explore.train)\n",
    "# x_test = tokenizer.texts_to_sequences(explore.test)\n",
    "# x_train = sequence.pad_sequences(x_train, maxlen=MAX_LEN)\n",
    "# x_test = sequence.pad_sequences(x_test, maxlen=MAX_LEN)"
   ]
  },
  {
   "cell_type": "code",
   "execution_count": null,
   "metadata": {},
   "outputs": [],
   "source": [
    "# tokenizer.word_counts"
   ]
  },
  {
   "cell_type": "markdown",
   "metadata": {},
   "source": [
    "### Number of words per sample"
   ]
  },
  {
   "cell_type": "code",
   "execution_count": 50,
   "metadata": {},
   "outputs": [],
   "source": [
    "document_lengths = [len(tokens) for tokens in clean_comments]\n"
   ]
  },
  {
   "cell_type": "code",
   "execution_count": 43,
   "metadata": {},
   "outputs": [
    {
     "ename": "NameError",
     "evalue": "name 'xts' is not defined",
     "output_type": "error",
     "traceback": [
      "\u001b[0;31m---------------------------------------------------------------------------\u001b[0m",
      "\u001b[0;31mNameError\u001b[0m                                 Traceback (most recent call last)",
      "\u001b[0;32m<ipython-input-43-a2f5b0ebe8e1>\u001b[0m in \u001b[0;36m<module>\u001b[0;34m\u001b[0m\n\u001b[1;32m      3\u001b[0m \u001b[0;34m\u001b[0m\u001b[0m\n\u001b[1;32m      4\u001b[0m \u001b[0;31m# Extracting all words\u001b[0m\u001b[0;34m\u001b[0m\u001b[0;34m\u001b[0m\u001b[0;34m\u001b[0m\u001b[0m\n\u001b[0;32m----> 5\u001b[0;31m \u001b[0mall_words\u001b[0m \u001b[0;34m=\u001b[0m \u001b[0;34m[\u001b[0m\u001b[0mword\u001b[0m \u001b[0;32mfor\u001b[0m \u001b[0mtokens\u001b[0m \u001b[0;32min\u001b[0m \u001b[0mxts\u001b[0m \u001b[0;32mfor\u001b[0m \u001b[0mword\u001b[0m \u001b[0;32min\u001b[0m \u001b[0mtokens\u001b[0m\u001b[0;34m]\u001b[0m\u001b[0;34m\u001b[0m\u001b[0;34m\u001b[0m\u001b[0m\n\u001b[0m\u001b[1;32m      6\u001b[0m \u001b[0;34m\u001b[0m\u001b[0m\n\u001b[1;32m      7\u001b[0m \u001b[0;31m# Creating our Vocabulary, a distinct list of words\u001b[0m\u001b[0;34m\u001b[0m\u001b[0;34m\u001b[0m\u001b[0;34m\u001b[0m\u001b[0m\n",
      "\u001b[0;31mNameError\u001b[0m: name 'xts' is not defined"
     ]
    }
   ],
   "source": [
    "from collections import Counter\n",
    "# Retrieving some documents' stats\n",
    "\n",
    "# Extracting all words\n",
    "all_words = [word for tokens in xts for word in tokens]\n",
    "\n",
    "# Creating our Vocabulary, a distinct list of words \n",
    "VOCAB = sorted(list(set(all_words)))\n",
    "\n",
    "# Counting the length of each document\n",
    "document_lengths = [len(tokens) for tokens in clean_comments]\n",
    "\n",
    "#Counting the frequency of each word\n",
    "count_all_words = Counter(all_words)"
   ]
  },
  {
   "cell_type": "markdown",
   "metadata": {},
   "source": [
    "### Frequency distribution of words"
   ]
  },
  {
   "cell_type": "code",
   "execution_count": null,
   "metadata": {},
   "outputs": [],
   "source": [
    "# To be done"
   ]
  },
  {
   "cell_type": "markdown",
   "metadata": {},
   "source": [
    "### Distribution of sample length"
   ]
  },
  {
   "cell_type": "code",
   "execution_count": 46,
   "metadata": {},
   "outputs": [],
   "source": [
    "import matplotlib.pyplot as plt\n",
    "import seaborn as sns\n",
    "sns.set(style=\"darkgrid\")"
   ]
  },
  {
   "cell_type": "code",
   "execution_count": 59,
   "metadata": {},
   "outputs": [
    {
     "data": {
      "image/png": "[encoded data removed]",
      "text/plain": [
       "<Figure size 576x576 with 1 Axes>"
      ]
     },
     "metadata": {
      "needs_background": "light"
     },
     "output_type": "display_data"
    }
   ],
   "source": [
    "fig = plt.figure(figsize=(8, 8)) \n",
    "plt.xlabel('Comments length')\n",
    "plt.ylabel('Number of comments')\n",
    "plt.hist(document_lengths, bins=50)\n",
    "plt.show()"
   ]
  },
  {
   "cell_type": "code",
   "execution_count": null,
   "metadata": {},
   "outputs": [],
   "source": [
    "VOCAB = sorted(list(set(all_words)))\n",
    "print(\"{:,} words total, with a vocabulary size of {:,}\".format(len(all_words), len(VOCAB)))"
   ]
  },
  {
   "cell_type": "markdown",
   "metadata": {},
   "source": [
    "### Most frequent words\n",
    "\n",
    "Most frequent words"
   ]
  },
  {
   "cell_type": "code",
   "execution_count": null,
   "metadata": {},
   "outputs": [],
   "source": [
    "# get the top 10 most common occuring words skipping the first 10\n",
    "print(tabletext.to_text([('TERM', 'COUNT'), *count_all_words.most_common(10)]))"
   ]
  },
  {
   "cell_type": "markdown",
   "metadata": {},
   "source": [
    "Most frequent words skipping the first 10 as those are stop words"
   ]
  },
  {
   "cell_type": "code",
   "execution_count": null,
   "metadata": {},
   "outputs": [],
   "source": [
    "# get the top 10 most common occuring words skipping the first 10\n",
    "print(tabletext.to_text([('TERM', 'COUNT'), *count_all_words.most_common(100)][11:21]))"
   ]
  },
  {
   "cell_type": "markdown",
   "metadata": {},
   "source": [
    "## Most common words found in toxic but not in non-toxic"
   ]
  },
  {
   "cell_type": "code",
   "execution_count": null,
   "metadata": {},
   "outputs": [],
   "source": [
    "from collections import Counter\n",
    "\n",
    "def extract_words(df, comments, expr):\n",
    "    c = np.array(comments)\n",
    "    toxic_comments = c[expr]\n",
    "    fr = {}\n",
    "    words = [w for c in toxic_comments for w in c]\n",
    "    return Counter(words)\n",
    "\n"
   ]
  },
  {
   "cell_type": "code",
   "execution_count": null,
   "metadata": {},
   "outputs": [],
   "source": [
    "word_in_toxic = extract_words(train, clean_comments, (train['toxic'] == 1))\n",
    "word_in_non_toxic = extract_words(train, clean_comments, (train['toxic'] == 0))"
   ]
  },
  {
   "cell_type": "code",
   "execution_count": null,
   "metadata": {},
   "outputs": [],
   "source": [
    "word_in_toxic.most_common(10)"
   ]
  },
  {
   "cell_type": "code",
   "execution_count": null,
   "metadata": {},
   "outputs": [],
   "source": [
    "word_in_non_toxic.most_common(10)"
   ]
  },
  {
   "cell_type": "code",
   "execution_count": null,
   "metadata": {},
   "outputs": [],
   "source": [
    "word_in_non_toxic['iasdfaf']"
   ]
  },
  {
   "cell_type": "markdown",
   "metadata": {},
   "source": [
    "### Words found in toxic but not in non-toxic"
   ]
  },
  {
   "cell_type": "code",
   "execution_count": null,
   "metadata": {},
   "outputs": [],
   "source": [
    "words_in_toxic_not_in_non_toxic = Counter([w for w in word_in_toxic if word_in_non_toxic[w] == 0])"
   ]
  },
  {
   "cell_type": "code",
   "execution_count": null,
   "metadata": {},
   "outputs": [],
   "source": [
    "print(words_in_toxic_not_in_non_toxic.most_common(100))\n",
    "print(len(words_in_toxic_not_in_non_toxic)/len(train[(train['toxic'] > 0.5)]))"
   ]
  },
  {
   "cell_type": "markdown",
   "metadata": {},
   "source": [
    "### Words found in non-toxic but not in toxic"
   ]
  },
  {
   "cell_type": "code",
   "execution_count": null,
   "metadata": {},
   "outputs": [],
   "source": [
    "words_in_non_toxic_not_in_toxic = Counter([w for w in word_in_non_toxic if word_in_toxic[w] == 0])"
   ]
  },
  {
   "cell_type": "code",
   "execution_count": null,
   "metadata": {},
   "outputs": [],
   "source": [
    "print(words_in_non_toxic_not_in_toxic.most_common(100))\n",
    "print(len(words_in_non_toxic_not_in_toxic)/len(train[(train['toxic'] == 0.0)]))"
   ]
  },
  {
   "cell_type": "code",
   "execution_count": null,
   "metadata": {},
   "outputs": [],
   "source": [
    "def count_frequency(word_list):\n",
    "    # Get a set of unique words from the list\n",
    "    word_set = set(word_list)\n",
    "    # create your frequency dictionary\n",
    "    freq = {}\n",
    "    # iterate through them, once per unique word.\n",
    "    for word in word_set:\n",
    "        freq[word] = word_list.count(word) / float(len(word_list))\n",
    "        \n",
    "    return freq"
   ]
  },
  {
   "cell_type": "code",
   "execution_count": null,
   "metadata": {},
   "outputs": [],
   "source": [
    "toxic_word_freq = count_frequency(words_in_toxic_not_in_non_toxic)"
   ]
  },
  {
   "cell_type": "code",
   "execution_count": null,
   "metadata": {},
   "outputs": [],
   "source": []
  },
  {
   "cell_type": "markdown",
   "metadata": {},
   "source": [
    "## Evaluation Metrics\n",
    "\n",
    "Thanks to https://www.kaggle.com/gromag/benchmark-kernel/edit/run/12870543"
   ]
  },
  {
   "cell_type": "markdown",
   "metadata": {},
   "source": [
    "### Define bias metrics, then evaluate our new model for bias using the validation set predictions"
   ]
  },
  {
   "cell_type": "code",
   "execution_count": 1211,
   "metadata": {},
   "outputs": [],
   "source": []
  },
  {
   "cell_type": "markdown",
   "metadata": {},
   "source": [
    "### Calculate the final score"
   ]
  },
  {
   "cell_type": "code",
   "execution_count": null,
   "metadata": {},
   "outputs": [],
   "source": [
    "# bias_metrics_df = compute_bias_metrics_for_model(validate_df, identity_columns, MODEL_NAME, TOXICITY_COLUMN)\n",
    "# bias_metrics_df    \n",
    "# get_final_metric(bias_metrics_df, calculate_overall_auc(validate_df, MODEL_NAME))"
   ]
  },
  {
   "cell_type": "code",
   "execution_count": null,
   "metadata": {},
   "outputs": [],
   "source": [
    "train['dummy_model'] = 0"
   ]
  },
  {
   "cell_type": "code",
   "execution_count": null,
   "metadata": {},
   "outputs": [],
   "source": [
    "\n",
    "\n",
    "EvaluationMetrics.compute_bias_metrics_for_model(train, explore.identity_columns, 'dummy_model', 'toxic')\n"
   ]
  },
  {
   "cell_type": "code",
   "execution_count": null,
   "metadata": {},
   "outputs": [],
   "source": [
    "%%html\n",
    "<style>\n",
    "    .q {\n",
    "        color: red;\n",
    "    }\n",
    "</style>"
   ]
  },
  {
   "cell_type": "code",
   "execution_count": null,
   "metadata": {},
   "outputs": [],
   "source": [
    "class A: x = 'a'\n",
    "\n",
    "class B(A): pass\n",
    "\n",
    "class C(A): x = 'c'\n",
    "    \n",
    "class D(B, C): pass\n",
    "\n",
    "D.x"
   ]
  },
  {
   "cell_type": "markdown",
   "metadata": {},
   "source": [
    "## Splitting the data by identity and creating train and test sets"
   ]
  },
  {
   "cell_type": "code",
   "execution_count": null,
   "metadata": {},
   "outputs": [],
   "source": [
    "from sklearn import model_selection\n",
    "\n",
    "dataByIdentity = {}\n",
    "\n",
    "for col in explore.identity_columns:\n",
    "    relevant_samples = train[train[col] > 0.5]\n",
    "    train_df, validate_df = model_selection.train_test_split(relevant_samples, test_size=0.2)\n",
    "    dataByIdentity[col] = {'train': train_df, 'validate': validate_df }"
   ]
  },
  {
   "cell_type": "code",
   "execution_count": null,
   "metadata": {},
   "outputs": [],
   "source": [
    "for col in explore.identity_columns:\n",
    "    print(EvaluationMetrics.compute_bias_metrics_for_model(dataByIdentity[col]['train'], explore.identity_columns, 'dummy_model', 'toxic'))\n",
    "\n"
   ]
  },
  {
   "cell_type": "code",
   "execution_count": 5,
   "metadata": {},
   "outputs": [],
   "source": [
    "import torch\n",
    "from torch import nn\n",
    "from torch.utils import data\n",
    "from torch.nn import functional as F\n",
    "from tqdm._tqdm_notebook import tqdm_notebook as tqdm"
   ]
  },
  {
   "cell_type": "code",
   "execution_count": 18,
   "metadata": {},
   "outputs": [
    {
     "name": "stdout",
     "output_type": "stream",
     "text": [
      "tensor([[1., 1., 1., 1., 1., 1., 1., 1., 1., 1.]])\n",
      "tensor([[ 0.,  0., 10.,  0.,  0.,  0.,  0.,  0.,  0.,  0.]])\n",
      "tensor([[1., 1., 1., 1., 1., 1., 1., 1., 1., 1.]])\n"
     ]
    }
   ],
   "source": [
    "drop = nn.Dropout(p=0.9)\n",
    "x = torch.ones(1, 10)\n",
    "\n",
    "print(x)\n",
    "\n",
    "# Train mode (default after construction)\n",
    "drop.train()\n",
    "print(drop(x))\n",
    "\n",
    "# Eval mode\n",
    "drop.eval()\n",
    "print(drop(x))"
   ]
  },
  {
   "cell_type": "code",
   "execution_count": 25,
   "metadata": {},
   "outputs": [
    {
     "data": {
      "text/plain": [
       "[9, 8, 2, 9, 6, 2, 4, 8, 5, 1]"
      ]
     },
     "execution_count": 25,
     "metadata": {},
     "output_type": "execute_result"
    }
   ],
   "source": [
    "import random\n",
    "\n",
    "class foo():\n",
    "    \n",
    "    def __init__(self):\n",
    "        super().__init__()\n",
    "    \n",
    "    def train(self):\n",
    "        \n",
    "        v = []\n",
    "        \n",
    "        def f(n):\n",
    "            v.append(n)\n",
    "            \n",
    "        \n",
    "        self.pred(f)\n",
    "\n",
    "        \n",
    "        return v\n",
    "        \n",
    "    def pred(self, fn):    \n",
    "        for i in range(10):\n",
    "            fn(random.randint(1,10))\n",
    "        \n",
    "        \n",
    "a = foo()\n",
    "\n",
    "a.train()\n",
    "\n"
   ]
  },
  {
   "cell_type": "code",
   "execution_count": null,
   "metadata": {},
   "outputs": [],
   "source": [
    "n_epochs = 5"
   ]
  },
  {
   "cell_type": "code",
   "execution_count": null,
   "metadata": {},
   "outputs": [],
   "source": [
    "a = np.array([2 ** epoch for epoch in range(n_epochs)])"
   ]
  },
  {
   "cell_type": "code",
   "execution_count": null,
   "metadata": {},
   "outputs": [],
   "source": [
    "a = np.where(a > 4, 1, 0)"
   ]
  },
  {
   "cell_type": "code",
   "execution_count": null,
   "metadata": {},
   "outputs": [],
   "source": [
    "a"
   ]
  },
  {
   "cell_type": "code",
   "execution_count": null,
   "metadata": {},
   "outputs": [],
   "source": [
    "a[:, np.newaxis]"
   ]
  },
  {
   "cell_type": "code",
   "execution_count": null,
   "metadata": {},
   "outputs": [],
   "source": [
    "a = np.hstack([a[:, np.newaxis], np.array([[2],[2],[2],[2],[2]])])"
   ]
  },
  {
   "cell_type": "code",
   "execution_count": null,
   "metadata": {},
   "outputs": [],
   "source": [
    "a.shape[-1]"
   ]
  },
  {
   "cell_type": "code",
   "execution_count": null,
   "metadata": {},
   "outputs": [],
   "source": [
    "a[:,-1]"
   ]
  },
  {
   "cell_type": "code",
   "execution_count": null,
   "metadata": {},
   "outputs": [],
   "source": [
    "a[-1]"
   ]
  },
  {
   "cell_type": "code",
   "execution_count": null,
   "metadata": {},
   "outputs": [],
   "source": [
    "a"
   ]
  },
  {
   "cell_type": "code",
   "execution_count": null,
   "metadata": {},
   "outputs": [],
   "source": [
    "a[-1]"
   ]
  },
  {
   "cell_type": "code",
   "execution_count": null,
   "metadata": {},
   "outputs": [],
   "source": []
  },
  {
   "cell_type": "code",
   "execution_count": null,
   "metadata": {},
   "outputs": [],
   "source": [
    "F.max_pool2d()"
   ]
  }
 ],
 "metadata": {
  "hide_input": false,
  "kernelspec": {
   "display_name": "quadcop",
   "language": "python",
   "name": "quadcop"
  },
  "language_info": {
   "codemirror_mode": {
    "name": "ipython",
    "version": 3
   },
   "file_extension": ".py",
   "mimetype": "text/x-python",
   "name": "python",
   "nbconvert_exporter": "python",
   "pygments_lexer": "ipython3",
   "version": "3.6.8"
  }
 },
 "nbformat": 4,
 "nbformat_minor": 1
}
